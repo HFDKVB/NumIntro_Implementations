{
 "cells": [
  {
   "cell_type": "markdown",
   "id": "37a7f810",
   "metadata": {},
   "source": [
    "# NumIntro Implementeringer\n",
    "---\n",
    "Robuste implementeringer af algoritmerne fra NumIntro\n",
    "## Overblik\n",
    "\n",
    "Fungere med simple imports og har samme metodik som dem givet i Python recipies.\n",
    "\n",
    "---\n"
   ]
  },
  {
   "cell_type": "markdown",
   "id": "98ce2c80",
   "metadata": {},
   "source": [
    "## Eksempel Ikke-linære ligninger\n",
    "Med en simpel import kan vi hurtigt køre algoritmen"
   ]
  },
  {
   "cell_type": "code",
   "execution_count": 24,
   "id": "cf94d76c",
   "metadata": {},
   "outputs": [
    {
     "data": {
      "text/plain": [
       "0.0009765625"
      ]
     },
     "execution_count": 24,
     "metadata": {},
     "output_type": "execute_result"
    }
   ],
   "source": [
    "from non_linear_solver.main import newtons_method\n",
    "import pandas as pd\n",
    "\n",
    "f = lambda x: x**2\n",
    "f_prime = lambda x: 2*x\n",
    "x_0 = 2.0\n",
    "\n",
    "root, n_iters, did_converge, history  = newtons_method(f=f, fprime=f_prime, x0=x_0,epsilon=10**(-6),K=200,return_history=True)\n",
    "root"
   ]
  },
  {
   "cell_type": "markdown",
   "id": "cfacf3d7",
   "metadata": {},
   "source": [
    "Men vi kan også hurtigt få fat på iterations historikken"
   ]
  },
  {
   "cell_type": "code",
   "execution_count": 25,
   "id": "ff45b241",
   "metadata": {},
   "outputs": [
    {
     "data": {
      "text/html": [
       "<div>\n",
       "<style scoped>\n",
       "    .dataframe tbody tr th:only-of-type {\n",
       "        vertical-align: middle;\n",
       "    }\n",
       "\n",
       "    .dataframe tbody tr th {\n",
       "        vertical-align: top;\n",
       "    }\n",
       "\n",
       "    .dataframe thead th {\n",
       "        text-align: right;\n",
       "    }\n",
       "</style>\n",
       "<table border=\"1\" class=\"dataframe\">\n",
       "  <thead>\n",
       "    <tr style=\"text-align: right;\">\n",
       "      <th></th>\n",
       "      <th>iteration</th>\n",
       "      <th>x_k</th>\n",
       "      <th>x_k+1</th>\n",
       "      <th>f(x_k)</th>\n",
       "      <th>|x_k+1 - x_k|</th>\n",
       "      <th>|f(x_k+1)|&lt;epsilon</th>\n",
       "    </tr>\n",
       "  </thead>\n",
       "  <tbody>\n",
       "    <tr>\n",
       "      <th>0</th>\n",
       "      <td>1</td>\n",
       "      <td>2.000000</td>\n",
       "      <td>1.000000</td>\n",
       "      <td>4.000000</td>\n",
       "      <td>1.000000</td>\n",
       "      <td>False</td>\n",
       "    </tr>\n",
       "    <tr>\n",
       "      <th>1</th>\n",
       "      <td>2</td>\n",
       "      <td>1.000000</td>\n",
       "      <td>0.500000</td>\n",
       "      <td>1.000000</td>\n",
       "      <td>0.500000</td>\n",
       "      <td>False</td>\n",
       "    </tr>\n",
       "    <tr>\n",
       "      <th>2</th>\n",
       "      <td>3</td>\n",
       "      <td>0.500000</td>\n",
       "      <td>0.250000</td>\n",
       "      <td>0.250000</td>\n",
       "      <td>0.250000</td>\n",
       "      <td>False</td>\n",
       "    </tr>\n",
       "    <tr>\n",
       "      <th>3</th>\n",
       "      <td>4</td>\n",
       "      <td>0.250000</td>\n",
       "      <td>0.125000</td>\n",
       "      <td>0.062500</td>\n",
       "      <td>0.125000</td>\n",
       "      <td>False</td>\n",
       "    </tr>\n",
       "    <tr>\n",
       "      <th>4</th>\n",
       "      <td>5</td>\n",
       "      <td>0.125000</td>\n",
       "      <td>0.062500</td>\n",
       "      <td>0.015625</td>\n",
       "      <td>0.062500</td>\n",
       "      <td>False</td>\n",
       "    </tr>\n",
       "    <tr>\n",
       "      <th>5</th>\n",
       "      <td>6</td>\n",
       "      <td>0.062500</td>\n",
       "      <td>0.031250</td>\n",
       "      <td>0.003906</td>\n",
       "      <td>0.031250</td>\n",
       "      <td>False</td>\n",
       "    </tr>\n",
       "    <tr>\n",
       "      <th>6</th>\n",
       "      <td>7</td>\n",
       "      <td>0.031250</td>\n",
       "      <td>0.015625</td>\n",
       "      <td>0.000977</td>\n",
       "      <td>0.015625</td>\n",
       "      <td>False</td>\n",
       "    </tr>\n",
       "    <tr>\n",
       "      <th>7</th>\n",
       "      <td>8</td>\n",
       "      <td>0.015625</td>\n",
       "      <td>0.007812</td>\n",
       "      <td>0.000244</td>\n",
       "      <td>0.007812</td>\n",
       "      <td>False</td>\n",
       "    </tr>\n",
       "    <tr>\n",
       "      <th>8</th>\n",
       "      <td>9</td>\n",
       "      <td>0.007812</td>\n",
       "      <td>0.003906</td>\n",
       "      <td>0.000061</td>\n",
       "      <td>0.003906</td>\n",
       "      <td>False</td>\n",
       "    </tr>\n",
       "    <tr>\n",
       "      <th>9</th>\n",
       "      <td>10</td>\n",
       "      <td>0.003906</td>\n",
       "      <td>0.001953</td>\n",
       "      <td>0.000015</td>\n",
       "      <td>0.001953</td>\n",
       "      <td>False</td>\n",
       "    </tr>\n",
       "    <tr>\n",
       "      <th>10</th>\n",
       "      <td>11</td>\n",
       "      <td>0.001953</td>\n",
       "      <td>0.000977</td>\n",
       "      <td>0.000004</td>\n",
       "      <td>0.000977</td>\n",
       "      <td>True</td>\n",
       "    </tr>\n",
       "  </tbody>\n",
       "</table>\n",
       "</div>"
      ],
      "text/plain": [
       "    iteration       x_k     x_k+1    f(x_k)  |x_k+1 - x_k|  |f(x_k+1)|<epsilon\n",
       "0           1  2.000000  1.000000  4.000000       1.000000               False\n",
       "1           2  1.000000  0.500000  1.000000       0.500000               False\n",
       "2           3  0.500000  0.250000  0.250000       0.250000               False\n",
       "3           4  0.250000  0.125000  0.062500       0.125000               False\n",
       "4           5  0.125000  0.062500  0.015625       0.062500               False\n",
       "5           6  0.062500  0.031250  0.003906       0.031250               False\n",
       "6           7  0.031250  0.015625  0.000977       0.015625               False\n",
       "7           8  0.015625  0.007812  0.000244       0.007812               False\n",
       "8           9  0.007812  0.003906  0.000061       0.003906               False\n",
       "9          10  0.003906  0.001953  0.000015       0.001953               False\n",
       "10         11  0.001953  0.000977  0.000004       0.000977                True"
      ]
     },
     "execution_count": 25,
     "metadata": {},
     "output_type": "execute_result"
    }
   ],
   "source": [
    "pd.DataFrame(history)"
   ]
  },
  {
   "cell_type": "markdown",
   "id": "b5f5512e",
   "metadata": {},
   "source": [
    "## Eksempel - LinAlg"
   ]
  },
  {
   "cell_type": "code",
   "execution_count": 3,
   "id": "1cbe29d7",
   "metadata": {},
   "outputs": [],
   "source": [
    "from linear_systems.main import LUfactorization\n",
    "import numpy as np"
   ]
  },
  {
   "cell_type": "code",
   "execution_count": 11,
   "id": "2ff4761a",
   "metadata": {},
   "outputs": [
    {
     "name": "stdout",
     "output_type": "stream",
     "text": [
      "[[1. 0. 0.]\n",
      " [4. 1. 0.]\n",
      " [7. 2. 1.]] \n",
      " [[ 1.  2.  3.]\n",
      " [ 0. -3. -6.]\n",
      " [ 0.  0.  0.]]\n"
     ]
    }
   ],
   "source": [
    "A = np.array([\n",
    "    [1,2,3],\n",
    "    [4,5,6],\n",
    "    [7,8,9],\n",
    "])\n",
    "L, U = LUfactorization(A)\n",
    "print(L, \"\\n\", U)"
   ]
  },
  {
   "cell_type": "code",
   "execution_count": 12,
   "id": "b228f1af",
   "metadata": {},
   "outputs": [
    {
     "data": {
      "text/plain": [
       "array([[1., 2., 3.],\n",
       "       [4., 5., 6.],\n",
       "       [7., 8., 9.]])"
      ]
     },
     "execution_count": 12,
     "metadata": {},
     "output_type": "execute_result"
    }
   ],
   "source": [
    "L @ U"
   ]
  }
 ],
 "metadata": {
  "kernelspec": {
   "display_name": "myenv",
   "language": "python",
   "name": "python3"
  },
  "language_info": {
   "codemirror_mode": {
    "name": "ipython",
    "version": 3
   },
   "file_extension": ".py",
   "mimetype": "text/x-python",
   "name": "python",
   "nbconvert_exporter": "python",
   "pygments_lexer": "ipython3",
   "version": "3.12.7"
  }
 },
 "nbformat": 4,
 "nbformat_minor": 5
}
